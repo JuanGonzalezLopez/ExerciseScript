{
 "cells": [
  {
   "cell_type": "markdown",
   "source": [
    "Testing Code\n",
    "\n"
   ],
   "metadata": {
    "collapsed": false,
    "pycharm": {
     "name": "#%% md\n"
    }
   }
  },
  {
   "cell_type": "code",
   "execution_count": null,
   "outputs": [],
   "source": [],
   "metadata": {
    "collapsed": false,
    "pycharm": {
     "name": "#%%\n"
    }
   }
  },
  {
   "cell_type": "code",
   "execution_count": 1,
   "outputs": [],
   "source": [
    "import pandas as pd\n",
    "import numpy as np\n",
    "import ExerciseReader as ER\n",
    "\n",
    "strat = \"Push\"\n",
    "exName = 'Exercise - '+strat\n",
    "excelFilePath = './Planners/Excel/Planner -.xlsx'.replace('-','- '+strat.upper())\n",
    "\n",
    "recentPlanner = pd.read_excel(excelFilePath)\n"
   ],
   "metadata": {
    "collapsed": false,
    "pycharm": {
     "name": "#%%\n"
    }
   }
  },
  {
   "cell_type": "code",
   "execution_count": 2,
   "outputs": [
    {
     "data": {
      "text/plain": "0                      Bench Press\n1                    Dumbell Press\n2              Decline Bench Press\n3            Incline Dumbell Press\n4           Dumbell Shoulder Press\n5                  Arnold Shoulder\n6          Lateral Dumbell Raises \n7                  Machine Pec dec\n8                    Cable Pec dec\n9            Tricep cable pushdown\n10    Single tricep cable pushdown\n11           OverHead Cable Tricep\n12              Cable Bar pushdown\n13           OverHead Cable Tricep\n14              Cable Bar pushdown\nName: Exercise - Push, dtype: object"
     },
     "execution_count": 2,
     "metadata": {},
     "output_type": "execute_result"
    }
   ],
   "source": [
    "plannerDF = recentPlanner[exName]\n",
    "plannerDF"
   ],
   "metadata": {
    "collapsed": false,
    "pycharm": {
     "name": "#%%\n"
    }
   }
  },
  {
   "cell_type": "code",
   "execution_count": 3,
   "outputs": [
    {
     "data": {
      "text/plain": "0                      Bench Press\n1                    Dumbell Press\n2              Decline Bench Press\n3            Incline Dumbell Press\n4           Dumbell Shoulder Press\n5                  Arnold Shoulder\n6          Lateral Dumbell Raises \n7                  Machine Pec dec\n8                    Cable Pec dec\n9            Tricep cable pushdown\n10    Single tricep cable pushdown\n11           OverHead Cable Tricep\n12              Cable Bar pushdown\n13                             NaN\nName: Push, dtype: object"
     },
     "execution_count": 3,
     "metadata": {},
     "output_type": "execute_result"
    }
   ],
   "source": [
    "ExerList = ER.data[strat]\n",
    "ExerList"
   ],
   "metadata": {
    "collapsed": false,
    "pycharm": {
     "name": "#%%\n"
    }
   }
  },
  {
   "cell_type": "code",
   "execution_count": 4,
   "outputs": [
    {
     "data": {
      "text/plain": "Int64Index([], dtype='int64')"
     },
     "execution_count": 4,
     "metadata": {},
     "output_type": "execute_result"
    }
   ],
   "source": [
    "indexes = plannerDF.index[~plannerDF.isin(ExerList)]\n",
    "indexes"
   ],
   "metadata": {
    "collapsed": false,
    "pycharm": {
     "name": "#%%\n"
    }
   }
  },
  {
   "cell_type": "code",
   "execution_count": 5,
   "outputs": [],
   "source": [
    "recentPlanner = recentPlanner.drop(indexes).reset_index(drop=True)\n"
   ],
   "metadata": {
    "collapsed": false,
    "pycharm": {
     "name": "#%%\n"
    }
   }
  },
  {
   "cell_type": "code",
   "execution_count": 6,
   "outputs": [
    {
     "data": {
      "text/plain": "                 Exercise - Push  29-05-2022  30-05-2022  31-05-2022  \\\n0                    Bench Press         NaN   [3,8,135]         NaN   \n1                  Dumbell Press         NaN         NaN         NaN   \n2            Decline Bench Press         NaN         NaN         NaN   \n3          Incline Dumbell Press         NaN         NaN         NaN   \n4         Dumbell Shoulder Press         NaN   [3,12,75]         NaN   \n5                Arnold Shoulder         NaN         NaN         NaN   \n6        Lateral Dumbell Raises          NaN         NaN         NaN   \n7                Machine Pec dec         NaN         NaN         NaN   \n8                  Cable Pec dec         NaN    [3,8,25]         NaN   \n9          Tricep cable pushdown         NaN  [3,12,110]         NaN   \n10  Single tricep cable pushdown         NaN         NaN         NaN   \n11         OverHead Cable Tricep         NaN         NaN         NaN   \n12            Cable Bar pushdown         NaN    [3,8,50]         NaN   \n13         OverHead Cable Tricep         NaN         NaN         NaN   \n14            Cable Bar pushdown         NaN         NaN         NaN   \n\n    01-06-2022  02-06-2022 03-06-2022  04-06-2022  05-06-2022 06-06-2022  ...  \\\n0          NaN         NaN        NaN         NaN         NaN  [3,6,145]  ...   \n1          NaN         NaN   [3,6,45]         NaN         NaN        NaN  ...   \n2          NaN         NaN  [3,6,135]         NaN         NaN        NaN  ...   \n3          NaN         NaN        NaN         NaN         NaN        NaN  ...   \n4          NaN         NaN   [3,8,85]         NaN         NaN   [3,8,85]  ...   \n5          NaN         NaN        NaN         NaN         NaN        NaN  ...   \n6          NaN         NaN        NaN         NaN         NaN   [3,9,25]  ...   \n7          NaN         NaN        NaN         NaN         NaN        NaN  ...   \n8          NaN         NaN        NaN         NaN         NaN        NaN  ...   \n9          NaN         NaN        NaN         NaN         NaN        NaN  ...   \n10         NaN         NaN   [3,8,40]         NaN         NaN        NaN  ...   \n11         NaN         NaN        NaN         NaN         NaN  [3,7,120]  ...   \n12         NaN         NaN        NaN         NaN         NaN        NaN  ...   \n13         NaN         NaN        NaN         NaN         NaN        NaN  ...   \n14         NaN         NaN   [3,8,80]         NaN         NaN  [3,10,80]  ...   \n\n    17-12-2022  18-12-2022  19-12-2022 20-12-2022  21-12-2022  22-12-2022  \\\n0          NaN         NaN         NaN        NaN         NaN         NaN   \n1          NaN         NaN         NaN        NaN         NaN         NaN   \n2          NaN   [3,8,135]         NaN        NaN         NaN         NaN   \n3          NaN    [3,8,50]         NaN        NaN         NaN         NaN   \n4          NaN    [3,4,55]         NaN        NaN         NaN         NaN   \n5          NaN         NaN         NaN        NaN         NaN         NaN   \n6          NaN         NaN         NaN        NaN         NaN         NaN   \n7          NaN         NaN         NaN        NaN         NaN         NaN   \n8          NaN    [3,8,20]         NaN        NaN         NaN         NaN   \n9          NaN   [3,8,175]         NaN        NaN         NaN         NaN   \n10         NaN         NaN         NaN        NaN         NaN         NaN   \n11         NaN         NaN         NaN        NaN         NaN         NaN   \n12         NaN    [3,8,25]         NaN        NaN         NaN         NaN   \n13         NaN         NaN         NaN        NaN         NaN         NaN   \n14         NaN    [3,8,50]         NaN        NaN         NaN         NaN   \n\n   23-12-2022  24-12-2022  25-12-2022 26-12-2022  \n0         NaN         NaN         NaN        NaN  \n1         NaN         NaN         NaN        NaN  \n2         NaN         NaN         NaN        NaN  \n3         NaN         NaN         NaN        NaN  \n4         NaN         NaN         NaN        NaN  \n5         NaN         NaN         NaN        NaN  \n6         NaN         NaN         NaN        NaN  \n7         NaN         NaN         NaN        NaN  \n8         NaN         NaN         NaN        NaN  \n9         NaN         NaN         NaN        NaN  \n10        NaN         NaN         NaN        NaN  \n11        NaN         NaN         NaN        NaN  \n12        NaN         NaN         NaN        NaN  \n13        NaN         NaN         NaN        NaN  \n14        NaN         NaN         NaN        NaN  \n\n[15 rows x 211 columns]",
      "text/html": "<div>\n<style scoped>\n    .dataframe tbody tr th:only-of-type {\n        vertical-align: middle;\n    }\n\n    .dataframe tbody tr th {\n        vertical-align: top;\n    }\n\n    .dataframe thead th {\n        text-align: right;\n    }\n</style>\n<table border=\"1\" class=\"dataframe\">\n  <thead>\n    <tr style=\"text-align: right;\">\n      <th></th>\n      <th>Exercise - Push</th>\n      <th>29-05-2022</th>\n      <th>30-05-2022</th>\n      <th>31-05-2022</th>\n      <th>01-06-2022</th>\n      <th>02-06-2022</th>\n      <th>03-06-2022</th>\n      <th>04-06-2022</th>\n      <th>05-06-2022</th>\n      <th>06-06-2022</th>\n      <th>...</th>\n      <th>17-12-2022</th>\n      <th>18-12-2022</th>\n      <th>19-12-2022</th>\n      <th>20-12-2022</th>\n      <th>21-12-2022</th>\n      <th>22-12-2022</th>\n      <th>23-12-2022</th>\n      <th>24-12-2022</th>\n      <th>25-12-2022</th>\n      <th>26-12-2022</th>\n    </tr>\n  </thead>\n  <tbody>\n    <tr>\n      <th>0</th>\n      <td>Bench Press</td>\n      <td>NaN</td>\n      <td>[3,8,135]</td>\n      <td>NaN</td>\n      <td>NaN</td>\n      <td>NaN</td>\n      <td>NaN</td>\n      <td>NaN</td>\n      <td>NaN</td>\n      <td>[3,6,145]</td>\n      <td>...</td>\n      <td>NaN</td>\n      <td>NaN</td>\n      <td>NaN</td>\n      <td>NaN</td>\n      <td>NaN</td>\n      <td>NaN</td>\n      <td>NaN</td>\n      <td>NaN</td>\n      <td>NaN</td>\n      <td>NaN</td>\n    </tr>\n    <tr>\n      <th>1</th>\n      <td>Dumbell Press</td>\n      <td>NaN</td>\n      <td>NaN</td>\n      <td>NaN</td>\n      <td>NaN</td>\n      <td>NaN</td>\n      <td>[3,6,45]</td>\n      <td>NaN</td>\n      <td>NaN</td>\n      <td>NaN</td>\n      <td>...</td>\n      <td>NaN</td>\n      <td>NaN</td>\n      <td>NaN</td>\n      <td>NaN</td>\n      <td>NaN</td>\n      <td>NaN</td>\n      <td>NaN</td>\n      <td>NaN</td>\n      <td>NaN</td>\n      <td>NaN</td>\n    </tr>\n    <tr>\n      <th>2</th>\n      <td>Decline Bench Press</td>\n      <td>NaN</td>\n      <td>NaN</td>\n      <td>NaN</td>\n      <td>NaN</td>\n      <td>NaN</td>\n      <td>[3,6,135]</td>\n      <td>NaN</td>\n      <td>NaN</td>\n      <td>NaN</td>\n      <td>...</td>\n      <td>NaN</td>\n      <td>[3,8,135]</td>\n      <td>NaN</td>\n      <td>NaN</td>\n      <td>NaN</td>\n      <td>NaN</td>\n      <td>NaN</td>\n      <td>NaN</td>\n      <td>NaN</td>\n      <td>NaN</td>\n    </tr>\n    <tr>\n      <th>3</th>\n      <td>Incline Dumbell Press</td>\n      <td>NaN</td>\n      <td>NaN</td>\n      <td>NaN</td>\n      <td>NaN</td>\n      <td>NaN</td>\n      <td>NaN</td>\n      <td>NaN</td>\n      <td>NaN</td>\n      <td>NaN</td>\n      <td>...</td>\n      <td>NaN</td>\n      <td>[3,8,50]</td>\n      <td>NaN</td>\n      <td>NaN</td>\n      <td>NaN</td>\n      <td>NaN</td>\n      <td>NaN</td>\n      <td>NaN</td>\n      <td>NaN</td>\n      <td>NaN</td>\n    </tr>\n    <tr>\n      <th>4</th>\n      <td>Dumbell Shoulder Press</td>\n      <td>NaN</td>\n      <td>[3,12,75]</td>\n      <td>NaN</td>\n      <td>NaN</td>\n      <td>NaN</td>\n      <td>[3,8,85]</td>\n      <td>NaN</td>\n      <td>NaN</td>\n      <td>[3,8,85]</td>\n      <td>...</td>\n      <td>NaN</td>\n      <td>[3,4,55]</td>\n      <td>NaN</td>\n      <td>NaN</td>\n      <td>NaN</td>\n      <td>NaN</td>\n      <td>NaN</td>\n      <td>NaN</td>\n      <td>NaN</td>\n      <td>NaN</td>\n    </tr>\n    <tr>\n      <th>5</th>\n      <td>Arnold Shoulder</td>\n      <td>NaN</td>\n      <td>NaN</td>\n      <td>NaN</td>\n      <td>NaN</td>\n      <td>NaN</td>\n      <td>NaN</td>\n      <td>NaN</td>\n      <td>NaN</td>\n      <td>NaN</td>\n      <td>...</td>\n      <td>NaN</td>\n      <td>NaN</td>\n      <td>NaN</td>\n      <td>NaN</td>\n      <td>NaN</td>\n      <td>NaN</td>\n      <td>NaN</td>\n      <td>NaN</td>\n      <td>NaN</td>\n      <td>NaN</td>\n    </tr>\n    <tr>\n      <th>6</th>\n      <td>Lateral Dumbell Raises</td>\n      <td>NaN</td>\n      <td>NaN</td>\n      <td>NaN</td>\n      <td>NaN</td>\n      <td>NaN</td>\n      <td>NaN</td>\n      <td>NaN</td>\n      <td>NaN</td>\n      <td>[3,9,25]</td>\n      <td>...</td>\n      <td>NaN</td>\n      <td>NaN</td>\n      <td>NaN</td>\n      <td>NaN</td>\n      <td>NaN</td>\n      <td>NaN</td>\n      <td>NaN</td>\n      <td>NaN</td>\n      <td>NaN</td>\n      <td>NaN</td>\n    </tr>\n    <tr>\n      <th>7</th>\n      <td>Machine Pec dec</td>\n      <td>NaN</td>\n      <td>NaN</td>\n      <td>NaN</td>\n      <td>NaN</td>\n      <td>NaN</td>\n      <td>NaN</td>\n      <td>NaN</td>\n      <td>NaN</td>\n      <td>NaN</td>\n      <td>...</td>\n      <td>NaN</td>\n      <td>NaN</td>\n      <td>NaN</td>\n      <td>NaN</td>\n      <td>NaN</td>\n      <td>NaN</td>\n      <td>NaN</td>\n      <td>NaN</td>\n      <td>NaN</td>\n      <td>NaN</td>\n    </tr>\n    <tr>\n      <th>8</th>\n      <td>Cable Pec dec</td>\n      <td>NaN</td>\n      <td>[3,8,25]</td>\n      <td>NaN</td>\n      <td>NaN</td>\n      <td>NaN</td>\n      <td>NaN</td>\n      <td>NaN</td>\n      <td>NaN</td>\n      <td>NaN</td>\n      <td>...</td>\n      <td>NaN</td>\n      <td>[3,8,20]</td>\n      <td>NaN</td>\n      <td>NaN</td>\n      <td>NaN</td>\n      <td>NaN</td>\n      <td>NaN</td>\n      <td>NaN</td>\n      <td>NaN</td>\n      <td>NaN</td>\n    </tr>\n    <tr>\n      <th>9</th>\n      <td>Tricep cable pushdown</td>\n      <td>NaN</td>\n      <td>[3,12,110]</td>\n      <td>NaN</td>\n      <td>NaN</td>\n      <td>NaN</td>\n      <td>NaN</td>\n      <td>NaN</td>\n      <td>NaN</td>\n      <td>NaN</td>\n      <td>...</td>\n      <td>NaN</td>\n      <td>[3,8,175]</td>\n      <td>NaN</td>\n      <td>NaN</td>\n      <td>NaN</td>\n      <td>NaN</td>\n      <td>NaN</td>\n      <td>NaN</td>\n      <td>NaN</td>\n      <td>NaN</td>\n    </tr>\n    <tr>\n      <th>10</th>\n      <td>Single tricep cable pushdown</td>\n      <td>NaN</td>\n      <td>NaN</td>\n      <td>NaN</td>\n      <td>NaN</td>\n      <td>NaN</td>\n      <td>[3,8,40]</td>\n      <td>NaN</td>\n      <td>NaN</td>\n      <td>NaN</td>\n      <td>...</td>\n      <td>NaN</td>\n      <td>NaN</td>\n      <td>NaN</td>\n      <td>NaN</td>\n      <td>NaN</td>\n      <td>NaN</td>\n      <td>NaN</td>\n      <td>NaN</td>\n      <td>NaN</td>\n      <td>NaN</td>\n    </tr>\n    <tr>\n      <th>11</th>\n      <td>OverHead Cable Tricep</td>\n      <td>NaN</td>\n      <td>NaN</td>\n      <td>NaN</td>\n      <td>NaN</td>\n      <td>NaN</td>\n      <td>NaN</td>\n      <td>NaN</td>\n      <td>NaN</td>\n      <td>[3,7,120]</td>\n      <td>...</td>\n      <td>NaN</td>\n      <td>NaN</td>\n      <td>NaN</td>\n      <td>NaN</td>\n      <td>NaN</td>\n      <td>NaN</td>\n      <td>NaN</td>\n      <td>NaN</td>\n      <td>NaN</td>\n      <td>NaN</td>\n    </tr>\n    <tr>\n      <th>12</th>\n      <td>Cable Bar pushdown</td>\n      <td>NaN</td>\n      <td>[3,8,50]</td>\n      <td>NaN</td>\n      <td>NaN</td>\n      <td>NaN</td>\n      <td>NaN</td>\n      <td>NaN</td>\n      <td>NaN</td>\n      <td>NaN</td>\n      <td>...</td>\n      <td>NaN</td>\n      <td>[3,8,25]</td>\n      <td>NaN</td>\n      <td>NaN</td>\n      <td>NaN</td>\n      <td>NaN</td>\n      <td>NaN</td>\n      <td>NaN</td>\n      <td>NaN</td>\n      <td>NaN</td>\n    </tr>\n    <tr>\n      <th>13</th>\n      <td>OverHead Cable Tricep</td>\n      <td>NaN</td>\n      <td>NaN</td>\n      <td>NaN</td>\n      <td>NaN</td>\n      <td>NaN</td>\n      <td>NaN</td>\n      <td>NaN</td>\n      <td>NaN</td>\n      <td>NaN</td>\n      <td>...</td>\n      <td>NaN</td>\n      <td>NaN</td>\n      <td>NaN</td>\n      <td>NaN</td>\n      <td>NaN</td>\n      <td>NaN</td>\n      <td>NaN</td>\n      <td>NaN</td>\n      <td>NaN</td>\n      <td>NaN</td>\n    </tr>\n    <tr>\n      <th>14</th>\n      <td>Cable Bar pushdown</td>\n      <td>NaN</td>\n      <td>NaN</td>\n      <td>NaN</td>\n      <td>NaN</td>\n      <td>NaN</td>\n      <td>[3,8,80]</td>\n      <td>NaN</td>\n      <td>NaN</td>\n      <td>[3,10,80]</td>\n      <td>...</td>\n      <td>NaN</td>\n      <td>[3,8,50]</td>\n      <td>NaN</td>\n      <td>NaN</td>\n      <td>NaN</td>\n      <td>NaN</td>\n      <td>NaN</td>\n      <td>NaN</td>\n      <td>NaN</td>\n      <td>NaN</td>\n    </tr>\n  </tbody>\n</table>\n<p>15 rows × 211 columns</p>\n</div>"
     },
     "execution_count": 6,
     "metadata": {},
     "output_type": "execute_result"
    }
   ],
   "source": [
    "recentPlanner"
   ],
   "metadata": {
    "collapsed": false,
    "pycharm": {
     "name": "#%%\n"
    }
   }
  },
  {
   "cell_type": "code",
   "execution_count": 7,
   "outputs": [
    {
     "data": {
      "text/plain": "                 Exercise - Push  29-05-2022  30-05-2022  31-05-2022  \\\n0                    Bench Press         NaN   [3,8,135]         NaN   \n1                  Dumbell Press         NaN         NaN         NaN   \n2            Decline Bench Press         NaN         NaN         NaN   \n3          Incline Dumbell Press         NaN         NaN         NaN   \n4         Dumbell Shoulder Press         NaN   [3,12,75]         NaN   \n5                Arnold Shoulder         NaN         NaN         NaN   \n6        Lateral Dumbell Raises          NaN    [3,8,25]         NaN   \n7                Machine Pec dec         NaN  [3,12,110]         NaN   \n8                  Cable Pec dec         NaN         NaN         NaN   \n9          Tricep cable pushdown         NaN         NaN         NaN   \n10  Single tricep cable pushdown         NaN    [3,8,50]         NaN   \n11         OverHead Cable Tricep         NaN         NaN         NaN   \n12            Cable Bar pushdown         NaN         NaN         NaN   \n\n    01-06-2022  02-06-2022 03-06-2022  04-06-2022  05-06-2022 06-06-2022  ...  \\\n0          NaN         NaN        NaN         NaN         NaN  [3,6,145]  ...   \n1          NaN         NaN   [3,6,45]         NaN         NaN        NaN  ...   \n2          NaN         NaN  [3,6,135]         NaN         NaN        NaN  ...   \n3          NaN         NaN        NaN         NaN         NaN        NaN  ...   \n4          NaN         NaN   [3,8,85]         NaN         NaN   [3,8,85]  ...   \n5          NaN         NaN        NaN         NaN         NaN   [3,9,25]  ...   \n6          NaN         NaN        NaN         NaN         NaN        NaN  ...   \n7          NaN         NaN        NaN         NaN         NaN        NaN  ...   \n8          NaN         NaN   [3,8,40]         NaN         NaN        NaN  ...   \n9          NaN         NaN        NaN         NaN         NaN  [3,7,120]  ...   \n10         NaN         NaN        NaN         NaN         NaN        NaN  ...   \n11         NaN         NaN   [3,8,80]         NaN         NaN  [3,10,80]  ...   \n12         NaN         NaN        NaN         NaN         NaN        NaN  ...   \n\n    17-12-2022  18-12-2022  19-12-2022 20-12-2022  21-12-2022  22-12-2022  \\\n0          NaN         NaN         NaN        NaN         NaN         NaN   \n1          NaN         NaN         NaN        NaN         NaN         NaN   \n2          NaN   [3,8,135]         NaN        NaN         NaN         NaN   \n3          NaN    [3,8,50]         NaN        NaN         NaN         NaN   \n4          NaN    [3,4,55]         NaN        NaN         NaN         NaN   \n5          NaN         NaN         NaN        NaN         NaN         NaN   \n6          NaN    [3,8,20]         NaN        NaN         NaN         NaN   \n7          NaN   [3,8,175]         NaN        NaN         NaN         NaN   \n8          NaN         NaN         NaN        NaN         NaN         NaN   \n9          NaN         NaN         NaN        NaN         NaN         NaN   \n10         NaN    [3,8,25]         NaN        NaN         NaN         NaN   \n11         NaN    [3,8,50]         NaN        NaN         NaN         NaN   \n12         NaN         NaN         NaN        NaN         NaN         NaN   \n\n   23-12-2022  24-12-2022  25-12-2022 26-12-2022  \n0         NaN         NaN         NaN        NaN  \n1         NaN         NaN         NaN        NaN  \n2         NaN         NaN         NaN        NaN  \n3         NaN         NaN         NaN        NaN  \n4         NaN         NaN         NaN        NaN  \n5         NaN         NaN         NaN        NaN  \n6         NaN         NaN         NaN        NaN  \n7         NaN         NaN         NaN        NaN  \n8         NaN         NaN         NaN        NaN  \n9         NaN         NaN         NaN        NaN  \n10        NaN         NaN         NaN        NaN  \n11        NaN         NaN         NaN        NaN  \n12        NaN         NaN         NaN        NaN  \n\n[13 rows x 211 columns]",
      "text/html": "<div>\n<style scoped>\n    .dataframe tbody tr th:only-of-type {\n        vertical-align: middle;\n    }\n\n    .dataframe tbody tr th {\n        vertical-align: top;\n    }\n\n    .dataframe thead th {\n        text-align: right;\n    }\n</style>\n<table border=\"1\" class=\"dataframe\">\n  <thead>\n    <tr style=\"text-align: right;\">\n      <th></th>\n      <th>Exercise - Push</th>\n      <th>29-05-2022</th>\n      <th>30-05-2022</th>\n      <th>31-05-2022</th>\n      <th>01-06-2022</th>\n      <th>02-06-2022</th>\n      <th>03-06-2022</th>\n      <th>04-06-2022</th>\n      <th>05-06-2022</th>\n      <th>06-06-2022</th>\n      <th>...</th>\n      <th>17-12-2022</th>\n      <th>18-12-2022</th>\n      <th>19-12-2022</th>\n      <th>20-12-2022</th>\n      <th>21-12-2022</th>\n      <th>22-12-2022</th>\n      <th>23-12-2022</th>\n      <th>24-12-2022</th>\n      <th>25-12-2022</th>\n      <th>26-12-2022</th>\n    </tr>\n  </thead>\n  <tbody>\n    <tr>\n      <th>0</th>\n      <td>Bench Press</td>\n      <td>NaN</td>\n      <td>[3,8,135]</td>\n      <td>NaN</td>\n      <td>NaN</td>\n      <td>NaN</td>\n      <td>NaN</td>\n      <td>NaN</td>\n      <td>NaN</td>\n      <td>[3,6,145]</td>\n      <td>...</td>\n      <td>NaN</td>\n      <td>NaN</td>\n      <td>NaN</td>\n      <td>NaN</td>\n      <td>NaN</td>\n      <td>NaN</td>\n      <td>NaN</td>\n      <td>NaN</td>\n      <td>NaN</td>\n      <td>NaN</td>\n    </tr>\n    <tr>\n      <th>1</th>\n      <td>Dumbell Press</td>\n      <td>NaN</td>\n      <td>NaN</td>\n      <td>NaN</td>\n      <td>NaN</td>\n      <td>NaN</td>\n      <td>[3,6,45]</td>\n      <td>NaN</td>\n      <td>NaN</td>\n      <td>NaN</td>\n      <td>...</td>\n      <td>NaN</td>\n      <td>NaN</td>\n      <td>NaN</td>\n      <td>NaN</td>\n      <td>NaN</td>\n      <td>NaN</td>\n      <td>NaN</td>\n      <td>NaN</td>\n      <td>NaN</td>\n      <td>NaN</td>\n    </tr>\n    <tr>\n      <th>2</th>\n      <td>Decline Bench Press</td>\n      <td>NaN</td>\n      <td>NaN</td>\n      <td>NaN</td>\n      <td>NaN</td>\n      <td>NaN</td>\n      <td>[3,6,135]</td>\n      <td>NaN</td>\n      <td>NaN</td>\n      <td>NaN</td>\n      <td>...</td>\n      <td>NaN</td>\n      <td>[3,8,135]</td>\n      <td>NaN</td>\n      <td>NaN</td>\n      <td>NaN</td>\n      <td>NaN</td>\n      <td>NaN</td>\n      <td>NaN</td>\n      <td>NaN</td>\n      <td>NaN</td>\n    </tr>\n    <tr>\n      <th>3</th>\n      <td>Incline Dumbell Press</td>\n      <td>NaN</td>\n      <td>NaN</td>\n      <td>NaN</td>\n      <td>NaN</td>\n      <td>NaN</td>\n      <td>NaN</td>\n      <td>NaN</td>\n      <td>NaN</td>\n      <td>NaN</td>\n      <td>...</td>\n      <td>NaN</td>\n      <td>[3,8,50]</td>\n      <td>NaN</td>\n      <td>NaN</td>\n      <td>NaN</td>\n      <td>NaN</td>\n      <td>NaN</td>\n      <td>NaN</td>\n      <td>NaN</td>\n      <td>NaN</td>\n    </tr>\n    <tr>\n      <th>4</th>\n      <td>Dumbell Shoulder Press</td>\n      <td>NaN</td>\n      <td>[3,12,75]</td>\n      <td>NaN</td>\n      <td>NaN</td>\n      <td>NaN</td>\n      <td>[3,8,85]</td>\n      <td>NaN</td>\n      <td>NaN</td>\n      <td>[3,8,85]</td>\n      <td>...</td>\n      <td>NaN</td>\n      <td>[3,4,55]</td>\n      <td>NaN</td>\n      <td>NaN</td>\n      <td>NaN</td>\n      <td>NaN</td>\n      <td>NaN</td>\n      <td>NaN</td>\n      <td>NaN</td>\n      <td>NaN</td>\n    </tr>\n    <tr>\n      <th>5</th>\n      <td>Arnold Shoulder</td>\n      <td>NaN</td>\n      <td>NaN</td>\n      <td>NaN</td>\n      <td>NaN</td>\n      <td>NaN</td>\n      <td>NaN</td>\n      <td>NaN</td>\n      <td>NaN</td>\n      <td>[3,9,25]</td>\n      <td>...</td>\n      <td>NaN</td>\n      <td>NaN</td>\n      <td>NaN</td>\n      <td>NaN</td>\n      <td>NaN</td>\n      <td>NaN</td>\n      <td>NaN</td>\n      <td>NaN</td>\n      <td>NaN</td>\n      <td>NaN</td>\n    </tr>\n    <tr>\n      <th>6</th>\n      <td>Lateral Dumbell Raises</td>\n      <td>NaN</td>\n      <td>[3,8,25]</td>\n      <td>NaN</td>\n      <td>NaN</td>\n      <td>NaN</td>\n      <td>NaN</td>\n      <td>NaN</td>\n      <td>NaN</td>\n      <td>NaN</td>\n      <td>...</td>\n      <td>NaN</td>\n      <td>[3,8,20]</td>\n      <td>NaN</td>\n      <td>NaN</td>\n      <td>NaN</td>\n      <td>NaN</td>\n      <td>NaN</td>\n      <td>NaN</td>\n      <td>NaN</td>\n      <td>NaN</td>\n    </tr>\n    <tr>\n      <th>7</th>\n      <td>Machine Pec dec</td>\n      <td>NaN</td>\n      <td>[3,12,110]</td>\n      <td>NaN</td>\n      <td>NaN</td>\n      <td>NaN</td>\n      <td>NaN</td>\n      <td>NaN</td>\n      <td>NaN</td>\n      <td>NaN</td>\n      <td>...</td>\n      <td>NaN</td>\n      <td>[3,8,175]</td>\n      <td>NaN</td>\n      <td>NaN</td>\n      <td>NaN</td>\n      <td>NaN</td>\n      <td>NaN</td>\n      <td>NaN</td>\n      <td>NaN</td>\n      <td>NaN</td>\n    </tr>\n    <tr>\n      <th>8</th>\n      <td>Cable Pec dec</td>\n      <td>NaN</td>\n      <td>NaN</td>\n      <td>NaN</td>\n      <td>NaN</td>\n      <td>NaN</td>\n      <td>[3,8,40]</td>\n      <td>NaN</td>\n      <td>NaN</td>\n      <td>NaN</td>\n      <td>...</td>\n      <td>NaN</td>\n      <td>NaN</td>\n      <td>NaN</td>\n      <td>NaN</td>\n      <td>NaN</td>\n      <td>NaN</td>\n      <td>NaN</td>\n      <td>NaN</td>\n      <td>NaN</td>\n      <td>NaN</td>\n    </tr>\n    <tr>\n      <th>9</th>\n      <td>Tricep cable pushdown</td>\n      <td>NaN</td>\n      <td>NaN</td>\n      <td>NaN</td>\n      <td>NaN</td>\n      <td>NaN</td>\n      <td>NaN</td>\n      <td>NaN</td>\n      <td>NaN</td>\n      <td>[3,7,120]</td>\n      <td>...</td>\n      <td>NaN</td>\n      <td>NaN</td>\n      <td>NaN</td>\n      <td>NaN</td>\n      <td>NaN</td>\n      <td>NaN</td>\n      <td>NaN</td>\n      <td>NaN</td>\n      <td>NaN</td>\n      <td>NaN</td>\n    </tr>\n    <tr>\n      <th>10</th>\n      <td>Single tricep cable pushdown</td>\n      <td>NaN</td>\n      <td>[3,8,50]</td>\n      <td>NaN</td>\n      <td>NaN</td>\n      <td>NaN</td>\n      <td>NaN</td>\n      <td>NaN</td>\n      <td>NaN</td>\n      <td>NaN</td>\n      <td>...</td>\n      <td>NaN</td>\n      <td>[3,8,25]</td>\n      <td>NaN</td>\n      <td>NaN</td>\n      <td>NaN</td>\n      <td>NaN</td>\n      <td>NaN</td>\n      <td>NaN</td>\n      <td>NaN</td>\n      <td>NaN</td>\n    </tr>\n    <tr>\n      <th>11</th>\n      <td>OverHead Cable Tricep</td>\n      <td>NaN</td>\n      <td>NaN</td>\n      <td>NaN</td>\n      <td>NaN</td>\n      <td>NaN</td>\n      <td>[3,8,80]</td>\n      <td>NaN</td>\n      <td>NaN</td>\n      <td>[3,10,80]</td>\n      <td>...</td>\n      <td>NaN</td>\n      <td>[3,8,50]</td>\n      <td>NaN</td>\n      <td>NaN</td>\n      <td>NaN</td>\n      <td>NaN</td>\n      <td>NaN</td>\n      <td>NaN</td>\n      <td>NaN</td>\n      <td>NaN</td>\n    </tr>\n    <tr>\n      <th>12</th>\n      <td>Cable Bar pushdown</td>\n      <td>NaN</td>\n      <td>NaN</td>\n      <td>NaN</td>\n      <td>NaN</td>\n      <td>NaN</td>\n      <td>NaN</td>\n      <td>NaN</td>\n      <td>NaN</td>\n      <td>NaN</td>\n      <td>...</td>\n      <td>NaN</td>\n      <td>NaN</td>\n      <td>NaN</td>\n      <td>NaN</td>\n      <td>NaN</td>\n      <td>NaN</td>\n      <td>NaN</td>\n      <td>NaN</td>\n      <td>NaN</td>\n      <td>NaN</td>\n    </tr>\n  </tbody>\n</table>\n<p>13 rows × 211 columns</p>\n</div>"
     },
     "execution_count": 7,
     "metadata": {},
     "output_type": "execute_result"
    }
   ],
   "source": [],
   "metadata": {
    "collapsed": false,
    "pycharm": {
     "name": "#%%\n"
    }
   }
  },
  {
   "cell_type": "code",
   "execution_count": 3,
   "outputs": [],
   "source": [
    "\n",
    "ExerList = ER.data[strat]\n"
   ],
   "metadata": {
    "collapsed": false,
    "pycharm": {
     "name": "#%%\n"
    }
   }
  },
  {
   "cell_type": "code",
   "execution_count": 4,
   "outputs": [
    {
     "data": {
      "text/plain": "    29-05-2022  30-05-2022  31-05-2022  01-06-2022  02-06-2022 03-06-2022  \\\n0          NaN   [3,8,135]         NaN         NaN         NaN        NaN   \n1          NaN         NaN         NaN         NaN         NaN   [3,6,45]   \n2          NaN         NaN         NaN         NaN         NaN  [3,6,135]   \n3          NaN         NaN         NaN         NaN         NaN        NaN   \n4          NaN   [3,12,75]         NaN         NaN         NaN   [3,8,85]   \n5          NaN         NaN         NaN         NaN         NaN        NaN   \n6          NaN    [3,8,25]         NaN         NaN         NaN        NaN   \n7          NaN  [3,12,110]         NaN         NaN         NaN        NaN   \n8          NaN         NaN         NaN         NaN         NaN   [3,8,40]   \n9          NaN         NaN         NaN         NaN         NaN        NaN   \n10         NaN    [3,8,50]         NaN         NaN         NaN        NaN   \n11         NaN         NaN         NaN         NaN         NaN   [3,8,80]   \n12         NaN         NaN         NaN         NaN         NaN        NaN   \n\n    04-06-2022  05-06-2022 06-06-2022  07-06-2022  ...  17-12-2022  \\\n0          NaN         NaN  [3,6,145]         NaN  ...         NaN   \n1          NaN         NaN        NaN         NaN  ...         NaN   \n2          NaN         NaN        NaN         NaN  ...         NaN   \n3          NaN         NaN        NaN         NaN  ...         NaN   \n4          NaN         NaN   [3,8,85]         NaN  ...         NaN   \n5          NaN         NaN   [3,9,25]         NaN  ...         NaN   \n6          NaN         NaN        NaN         NaN  ...         NaN   \n7          NaN         NaN        NaN         NaN  ...         NaN   \n8          NaN         NaN        NaN         NaN  ...         NaN   \n9          NaN         NaN  [3,7,120]         NaN  ...         NaN   \n10         NaN         NaN        NaN         NaN  ...         NaN   \n11         NaN         NaN  [3,10,80]         NaN  ...         NaN   \n12         NaN         NaN        NaN         NaN  ...         NaN   \n\n    18-12-2022 19-12-2022  20-12-2022  21-12-2022 22-12-2022  23-12-2022  \\\n0          NaN        NaN         NaN         NaN        NaN         NaN   \n1          NaN        NaN         NaN         NaN        NaN         NaN   \n2    [3,8,135]        NaN         NaN         NaN        NaN         NaN   \n3     [3,8,50]        NaN         NaN         NaN        NaN         NaN   \n4     [3,4,55]        NaN         NaN         NaN        NaN         NaN   \n5          NaN        NaN         NaN         NaN        NaN         NaN   \n6     [3,8,20]        NaN         NaN         NaN        NaN         NaN   \n7    [3,8,175]        NaN         NaN         NaN        NaN         NaN   \n8          NaN        NaN         NaN         NaN        NaN         NaN   \n9          NaN        NaN         NaN         NaN        NaN         NaN   \n10    [3,8,25]        NaN         NaN         NaN        NaN         NaN   \n11    [3,8,50]        NaN         NaN         NaN        NaN         NaN   \n12         NaN        NaN         NaN         NaN        NaN         NaN   \n\n    24-12-2022 25-12-2022  26-12-2022  \n0          NaN        NaN         NaN  \n1          NaN        NaN         NaN  \n2          NaN        NaN         NaN  \n3          NaN        NaN         NaN  \n4          NaN        NaN         NaN  \n5          NaN        NaN         NaN  \n6          NaN        NaN         NaN  \n7          NaN        NaN         NaN  \n8          NaN        NaN         NaN  \n9          NaN        NaN         NaN  \n10         NaN        NaN         NaN  \n11         NaN        NaN         NaN  \n12         NaN        NaN         NaN  \n\n[13 rows x 210 columns]",
      "text/html": "<div>\n<style scoped>\n    .dataframe tbody tr th:only-of-type {\n        vertical-align: middle;\n    }\n\n    .dataframe tbody tr th {\n        vertical-align: top;\n    }\n\n    .dataframe thead th {\n        text-align: right;\n    }\n</style>\n<table border=\"1\" class=\"dataframe\">\n  <thead>\n    <tr style=\"text-align: right;\">\n      <th></th>\n      <th>29-05-2022</th>\n      <th>30-05-2022</th>\n      <th>31-05-2022</th>\n      <th>01-06-2022</th>\n      <th>02-06-2022</th>\n      <th>03-06-2022</th>\n      <th>04-06-2022</th>\n      <th>05-06-2022</th>\n      <th>06-06-2022</th>\n      <th>07-06-2022</th>\n      <th>...</th>\n      <th>17-12-2022</th>\n      <th>18-12-2022</th>\n      <th>19-12-2022</th>\n      <th>20-12-2022</th>\n      <th>21-12-2022</th>\n      <th>22-12-2022</th>\n      <th>23-12-2022</th>\n      <th>24-12-2022</th>\n      <th>25-12-2022</th>\n      <th>26-12-2022</th>\n    </tr>\n  </thead>\n  <tbody>\n    <tr>\n      <th>0</th>\n      <td>NaN</td>\n      <td>[3,8,135]</td>\n      <td>NaN</td>\n      <td>NaN</td>\n      <td>NaN</td>\n      <td>NaN</td>\n      <td>NaN</td>\n      <td>NaN</td>\n      <td>[3,6,145]</td>\n      <td>NaN</td>\n      <td>...</td>\n      <td>NaN</td>\n      <td>NaN</td>\n      <td>NaN</td>\n      <td>NaN</td>\n      <td>NaN</td>\n      <td>NaN</td>\n      <td>NaN</td>\n      <td>NaN</td>\n      <td>NaN</td>\n      <td>NaN</td>\n    </tr>\n    <tr>\n      <th>1</th>\n      <td>NaN</td>\n      <td>NaN</td>\n      <td>NaN</td>\n      <td>NaN</td>\n      <td>NaN</td>\n      <td>[3,6,45]</td>\n      <td>NaN</td>\n      <td>NaN</td>\n      <td>NaN</td>\n      <td>NaN</td>\n      <td>...</td>\n      <td>NaN</td>\n      <td>NaN</td>\n      <td>NaN</td>\n      <td>NaN</td>\n      <td>NaN</td>\n      <td>NaN</td>\n      <td>NaN</td>\n      <td>NaN</td>\n      <td>NaN</td>\n      <td>NaN</td>\n    </tr>\n    <tr>\n      <th>2</th>\n      <td>NaN</td>\n      <td>NaN</td>\n      <td>NaN</td>\n      <td>NaN</td>\n      <td>NaN</td>\n      <td>[3,6,135]</td>\n      <td>NaN</td>\n      <td>NaN</td>\n      <td>NaN</td>\n      <td>NaN</td>\n      <td>...</td>\n      <td>NaN</td>\n      <td>[3,8,135]</td>\n      <td>NaN</td>\n      <td>NaN</td>\n      <td>NaN</td>\n      <td>NaN</td>\n      <td>NaN</td>\n      <td>NaN</td>\n      <td>NaN</td>\n      <td>NaN</td>\n    </tr>\n    <tr>\n      <th>3</th>\n      <td>NaN</td>\n      <td>NaN</td>\n      <td>NaN</td>\n      <td>NaN</td>\n      <td>NaN</td>\n      <td>NaN</td>\n      <td>NaN</td>\n      <td>NaN</td>\n      <td>NaN</td>\n      <td>NaN</td>\n      <td>...</td>\n      <td>NaN</td>\n      <td>[3,8,50]</td>\n      <td>NaN</td>\n      <td>NaN</td>\n      <td>NaN</td>\n      <td>NaN</td>\n      <td>NaN</td>\n      <td>NaN</td>\n      <td>NaN</td>\n      <td>NaN</td>\n    </tr>\n    <tr>\n      <th>4</th>\n      <td>NaN</td>\n      <td>[3,12,75]</td>\n      <td>NaN</td>\n      <td>NaN</td>\n      <td>NaN</td>\n      <td>[3,8,85]</td>\n      <td>NaN</td>\n      <td>NaN</td>\n      <td>[3,8,85]</td>\n      <td>NaN</td>\n      <td>...</td>\n      <td>NaN</td>\n      <td>[3,4,55]</td>\n      <td>NaN</td>\n      <td>NaN</td>\n      <td>NaN</td>\n      <td>NaN</td>\n      <td>NaN</td>\n      <td>NaN</td>\n      <td>NaN</td>\n      <td>NaN</td>\n    </tr>\n    <tr>\n      <th>5</th>\n      <td>NaN</td>\n      <td>NaN</td>\n      <td>NaN</td>\n      <td>NaN</td>\n      <td>NaN</td>\n      <td>NaN</td>\n      <td>NaN</td>\n      <td>NaN</td>\n      <td>[3,9,25]</td>\n      <td>NaN</td>\n      <td>...</td>\n      <td>NaN</td>\n      <td>NaN</td>\n      <td>NaN</td>\n      <td>NaN</td>\n      <td>NaN</td>\n      <td>NaN</td>\n      <td>NaN</td>\n      <td>NaN</td>\n      <td>NaN</td>\n      <td>NaN</td>\n    </tr>\n    <tr>\n      <th>6</th>\n      <td>NaN</td>\n      <td>[3,8,25]</td>\n      <td>NaN</td>\n      <td>NaN</td>\n      <td>NaN</td>\n      <td>NaN</td>\n      <td>NaN</td>\n      <td>NaN</td>\n      <td>NaN</td>\n      <td>NaN</td>\n      <td>...</td>\n      <td>NaN</td>\n      <td>[3,8,20]</td>\n      <td>NaN</td>\n      <td>NaN</td>\n      <td>NaN</td>\n      <td>NaN</td>\n      <td>NaN</td>\n      <td>NaN</td>\n      <td>NaN</td>\n      <td>NaN</td>\n    </tr>\n    <tr>\n      <th>7</th>\n      <td>NaN</td>\n      <td>[3,12,110]</td>\n      <td>NaN</td>\n      <td>NaN</td>\n      <td>NaN</td>\n      <td>NaN</td>\n      <td>NaN</td>\n      <td>NaN</td>\n      <td>NaN</td>\n      <td>NaN</td>\n      <td>...</td>\n      <td>NaN</td>\n      <td>[3,8,175]</td>\n      <td>NaN</td>\n      <td>NaN</td>\n      <td>NaN</td>\n      <td>NaN</td>\n      <td>NaN</td>\n      <td>NaN</td>\n      <td>NaN</td>\n      <td>NaN</td>\n    </tr>\n    <tr>\n      <th>8</th>\n      <td>NaN</td>\n      <td>NaN</td>\n      <td>NaN</td>\n      <td>NaN</td>\n      <td>NaN</td>\n      <td>[3,8,40]</td>\n      <td>NaN</td>\n      <td>NaN</td>\n      <td>NaN</td>\n      <td>NaN</td>\n      <td>...</td>\n      <td>NaN</td>\n      <td>NaN</td>\n      <td>NaN</td>\n      <td>NaN</td>\n      <td>NaN</td>\n      <td>NaN</td>\n      <td>NaN</td>\n      <td>NaN</td>\n      <td>NaN</td>\n      <td>NaN</td>\n    </tr>\n    <tr>\n      <th>9</th>\n      <td>NaN</td>\n      <td>NaN</td>\n      <td>NaN</td>\n      <td>NaN</td>\n      <td>NaN</td>\n      <td>NaN</td>\n      <td>NaN</td>\n      <td>NaN</td>\n      <td>[3,7,120]</td>\n      <td>NaN</td>\n      <td>...</td>\n      <td>NaN</td>\n      <td>NaN</td>\n      <td>NaN</td>\n      <td>NaN</td>\n      <td>NaN</td>\n      <td>NaN</td>\n      <td>NaN</td>\n      <td>NaN</td>\n      <td>NaN</td>\n      <td>NaN</td>\n    </tr>\n    <tr>\n      <th>10</th>\n      <td>NaN</td>\n      <td>[3,8,50]</td>\n      <td>NaN</td>\n      <td>NaN</td>\n      <td>NaN</td>\n      <td>NaN</td>\n      <td>NaN</td>\n      <td>NaN</td>\n      <td>NaN</td>\n      <td>NaN</td>\n      <td>...</td>\n      <td>NaN</td>\n      <td>[3,8,25]</td>\n      <td>NaN</td>\n      <td>NaN</td>\n      <td>NaN</td>\n      <td>NaN</td>\n      <td>NaN</td>\n      <td>NaN</td>\n      <td>NaN</td>\n      <td>NaN</td>\n    </tr>\n    <tr>\n      <th>11</th>\n      <td>NaN</td>\n      <td>NaN</td>\n      <td>NaN</td>\n      <td>NaN</td>\n      <td>NaN</td>\n      <td>[3,8,80]</td>\n      <td>NaN</td>\n      <td>NaN</td>\n      <td>[3,10,80]</td>\n      <td>NaN</td>\n      <td>...</td>\n      <td>NaN</td>\n      <td>[3,8,50]</td>\n      <td>NaN</td>\n      <td>NaN</td>\n      <td>NaN</td>\n      <td>NaN</td>\n      <td>NaN</td>\n      <td>NaN</td>\n      <td>NaN</td>\n      <td>NaN</td>\n    </tr>\n    <tr>\n      <th>12</th>\n      <td>NaN</td>\n      <td>NaN</td>\n      <td>NaN</td>\n      <td>NaN</td>\n      <td>NaN</td>\n      <td>NaN</td>\n      <td>NaN</td>\n      <td>NaN</td>\n      <td>NaN</td>\n      <td>NaN</td>\n      <td>...</td>\n      <td>NaN</td>\n      <td>NaN</td>\n      <td>NaN</td>\n      <td>NaN</td>\n      <td>NaN</td>\n      <td>NaN</td>\n      <td>NaN</td>\n      <td>NaN</td>\n      <td>NaN</td>\n      <td>NaN</td>\n    </tr>\n  </tbody>\n</table>\n<p>13 rows × 210 columns</p>\n</div>"
     },
     "execution_count": 4,
     "metadata": {},
     "output_type": "execute_result"
    }
   ],
   "source": [
    "recentPlanner.iloc[:,1:]"
   ],
   "metadata": {
    "collapsed": false,
    "pycharm": {
     "name": "#%%\n"
    }
   }
  },
  {
   "cell_type": "code",
   "execution_count": 5,
   "outputs": [
    {
     "name": "stdout",
     "output_type": "stream",
     "text": [
      "0 5 5\n",
      "5\n",
      "1 7 8\n",
      "8\n"
     ]
    },
    {
     "data": {
      "text/plain": "                 Exercise - Push  29-05-2022  30-05-2022  31-05-2022  \\\n0                    Bench Press         NaN   [3,8,135]         NaN   \n1                  Dumbell Press         NaN         NaN         NaN   \n2            Decline Bench Press         NaN         NaN         NaN   \n3          Incline Dumbell Press         NaN         NaN         NaN   \n4         Dumbell Shoulder Press         NaN   [3,12,75]         NaN   \n5                           test         NaN         NaN         NaN   \n6                Arnold Shoulder         NaN         NaN         NaN   \n7                          test2         NaN         NaN         NaN   \n8        Lateral Dumbell Raises          NaN    [3,8,25]         NaN   \n9                Machine Pec dec         NaN  [3,12,110]         NaN   \n10                 Cable Pec dec         NaN         NaN         NaN   \n11         Tricep cable pushdown         NaN         NaN         NaN   \n12  Single tricep cable pushdown         NaN    [3,8,50]         NaN   \n\n    01-06-2022  02-06-2022 03-06-2022  04-06-2022  05-06-2022 06-06-2022  ...  \\\n0          NaN         NaN        NaN         NaN         NaN  [3,6,145]  ...   \n1          NaN         NaN   [3,6,45]         NaN         NaN        NaN  ...   \n2          NaN         NaN  [3,6,135]         NaN         NaN        NaN  ...   \n3          NaN         NaN        NaN         NaN         NaN        NaN  ...   \n4          NaN         NaN   [3,8,85]         NaN         NaN   [3,8,85]  ...   \n5          NaN         NaN        NaN         NaN         NaN        NaN  ...   \n6          NaN         NaN        NaN         NaN         NaN   [3,9,25]  ...   \n7          NaN         NaN        NaN         NaN         NaN        NaN  ...   \n8          NaN         NaN        NaN         NaN         NaN        NaN  ...   \n9          NaN         NaN        NaN         NaN         NaN        NaN  ...   \n10         NaN         NaN   [3,8,40]         NaN         NaN        NaN  ...   \n11         NaN         NaN        NaN         NaN         NaN  [3,7,120]  ...   \n12         NaN         NaN        NaN         NaN         NaN        NaN  ...   \n\n    17-12-2022  18-12-2022  19-12-2022 20-12-2022  21-12-2022  22-12-2022  \\\n0          NaN         NaN         NaN        NaN         NaN         NaN   \n1          NaN         NaN         NaN        NaN         NaN         NaN   \n2          NaN   [3,8,135]         NaN        NaN         NaN         NaN   \n3          NaN    [3,8,50]         NaN        NaN         NaN         NaN   \n4          NaN    [3,4,55]         NaN        NaN         NaN         NaN   \n5          NaN         NaN         NaN        NaN         NaN         NaN   \n6          NaN         NaN         NaN        NaN         NaN         NaN   \n7          NaN         NaN         NaN        NaN         NaN         NaN   \n8          NaN    [3,8,20]         NaN        NaN         NaN         NaN   \n9          NaN   [3,8,175]         NaN        NaN         NaN         NaN   \n10         NaN         NaN         NaN        NaN         NaN         NaN   \n11         NaN         NaN         NaN        NaN         NaN         NaN   \n12         NaN    [3,8,25]         NaN        NaN         NaN         NaN   \n\n   23-12-2022  24-12-2022  25-12-2022 26-12-2022  \n0         NaN         NaN         NaN        NaN  \n1         NaN         NaN         NaN        NaN  \n2         NaN         NaN         NaN        NaN  \n3         NaN         NaN         NaN        NaN  \n4         NaN         NaN         NaN        NaN  \n5         NaN         NaN         NaN        NaN  \n6         NaN         NaN         NaN        NaN  \n7         NaN         NaN         NaN        NaN  \n8         NaN         NaN         NaN        NaN  \n9         NaN         NaN         NaN        NaN  \n10        NaN         NaN         NaN        NaN  \n11        NaN         NaN         NaN        NaN  \n12        NaN         NaN         NaN        NaN  \n\n[13 rows x 211 columns]",
      "text/html": "<div>\n<style scoped>\n    .dataframe tbody tr th:only-of-type {\n        vertical-align: middle;\n    }\n\n    .dataframe tbody tr th {\n        vertical-align: top;\n    }\n\n    .dataframe thead th {\n        text-align: right;\n    }\n</style>\n<table border=\"1\" class=\"dataframe\">\n  <thead>\n    <tr style=\"text-align: right;\">\n      <th></th>\n      <th>Exercise - Push</th>\n      <th>29-05-2022</th>\n      <th>30-05-2022</th>\n      <th>31-05-2022</th>\n      <th>01-06-2022</th>\n      <th>02-06-2022</th>\n      <th>03-06-2022</th>\n      <th>04-06-2022</th>\n      <th>05-06-2022</th>\n      <th>06-06-2022</th>\n      <th>...</th>\n      <th>17-12-2022</th>\n      <th>18-12-2022</th>\n      <th>19-12-2022</th>\n      <th>20-12-2022</th>\n      <th>21-12-2022</th>\n      <th>22-12-2022</th>\n      <th>23-12-2022</th>\n      <th>24-12-2022</th>\n      <th>25-12-2022</th>\n      <th>26-12-2022</th>\n    </tr>\n  </thead>\n  <tbody>\n    <tr>\n      <th>0</th>\n      <td>Bench Press</td>\n      <td>NaN</td>\n      <td>[3,8,135]</td>\n      <td>NaN</td>\n      <td>NaN</td>\n      <td>NaN</td>\n      <td>NaN</td>\n      <td>NaN</td>\n      <td>NaN</td>\n      <td>[3,6,145]</td>\n      <td>...</td>\n      <td>NaN</td>\n      <td>NaN</td>\n      <td>NaN</td>\n      <td>NaN</td>\n      <td>NaN</td>\n      <td>NaN</td>\n      <td>NaN</td>\n      <td>NaN</td>\n      <td>NaN</td>\n      <td>NaN</td>\n    </tr>\n    <tr>\n      <th>1</th>\n      <td>Dumbell Press</td>\n      <td>NaN</td>\n      <td>NaN</td>\n      <td>NaN</td>\n      <td>NaN</td>\n      <td>NaN</td>\n      <td>[3,6,45]</td>\n      <td>NaN</td>\n      <td>NaN</td>\n      <td>NaN</td>\n      <td>...</td>\n      <td>NaN</td>\n      <td>NaN</td>\n      <td>NaN</td>\n      <td>NaN</td>\n      <td>NaN</td>\n      <td>NaN</td>\n      <td>NaN</td>\n      <td>NaN</td>\n      <td>NaN</td>\n      <td>NaN</td>\n    </tr>\n    <tr>\n      <th>2</th>\n      <td>Decline Bench Press</td>\n      <td>NaN</td>\n      <td>NaN</td>\n      <td>NaN</td>\n      <td>NaN</td>\n      <td>NaN</td>\n      <td>[3,6,135]</td>\n      <td>NaN</td>\n      <td>NaN</td>\n      <td>NaN</td>\n      <td>...</td>\n      <td>NaN</td>\n      <td>[3,8,135]</td>\n      <td>NaN</td>\n      <td>NaN</td>\n      <td>NaN</td>\n      <td>NaN</td>\n      <td>NaN</td>\n      <td>NaN</td>\n      <td>NaN</td>\n      <td>NaN</td>\n    </tr>\n    <tr>\n      <th>3</th>\n      <td>Incline Dumbell Press</td>\n      <td>NaN</td>\n      <td>NaN</td>\n      <td>NaN</td>\n      <td>NaN</td>\n      <td>NaN</td>\n      <td>NaN</td>\n      <td>NaN</td>\n      <td>NaN</td>\n      <td>NaN</td>\n      <td>...</td>\n      <td>NaN</td>\n      <td>[3,8,50]</td>\n      <td>NaN</td>\n      <td>NaN</td>\n      <td>NaN</td>\n      <td>NaN</td>\n      <td>NaN</td>\n      <td>NaN</td>\n      <td>NaN</td>\n      <td>NaN</td>\n    </tr>\n    <tr>\n      <th>4</th>\n      <td>Dumbell Shoulder Press</td>\n      <td>NaN</td>\n      <td>[3,12,75]</td>\n      <td>NaN</td>\n      <td>NaN</td>\n      <td>NaN</td>\n      <td>[3,8,85]</td>\n      <td>NaN</td>\n      <td>NaN</td>\n      <td>[3,8,85]</td>\n      <td>...</td>\n      <td>NaN</td>\n      <td>[3,4,55]</td>\n      <td>NaN</td>\n      <td>NaN</td>\n      <td>NaN</td>\n      <td>NaN</td>\n      <td>NaN</td>\n      <td>NaN</td>\n      <td>NaN</td>\n      <td>NaN</td>\n    </tr>\n    <tr>\n      <th>5</th>\n      <td>test</td>\n      <td>NaN</td>\n      <td>NaN</td>\n      <td>NaN</td>\n      <td>NaN</td>\n      <td>NaN</td>\n      <td>NaN</td>\n      <td>NaN</td>\n      <td>NaN</td>\n      <td>NaN</td>\n      <td>...</td>\n      <td>NaN</td>\n      <td>NaN</td>\n      <td>NaN</td>\n      <td>NaN</td>\n      <td>NaN</td>\n      <td>NaN</td>\n      <td>NaN</td>\n      <td>NaN</td>\n      <td>NaN</td>\n      <td>NaN</td>\n    </tr>\n    <tr>\n      <th>6</th>\n      <td>Arnold Shoulder</td>\n      <td>NaN</td>\n      <td>NaN</td>\n      <td>NaN</td>\n      <td>NaN</td>\n      <td>NaN</td>\n      <td>NaN</td>\n      <td>NaN</td>\n      <td>NaN</td>\n      <td>[3,9,25]</td>\n      <td>...</td>\n      <td>NaN</td>\n      <td>NaN</td>\n      <td>NaN</td>\n      <td>NaN</td>\n      <td>NaN</td>\n      <td>NaN</td>\n      <td>NaN</td>\n      <td>NaN</td>\n      <td>NaN</td>\n      <td>NaN</td>\n    </tr>\n    <tr>\n      <th>7</th>\n      <td>test2</td>\n      <td>NaN</td>\n      <td>NaN</td>\n      <td>NaN</td>\n      <td>NaN</td>\n      <td>NaN</td>\n      <td>NaN</td>\n      <td>NaN</td>\n      <td>NaN</td>\n      <td>NaN</td>\n      <td>...</td>\n      <td>NaN</td>\n      <td>NaN</td>\n      <td>NaN</td>\n      <td>NaN</td>\n      <td>NaN</td>\n      <td>NaN</td>\n      <td>NaN</td>\n      <td>NaN</td>\n      <td>NaN</td>\n      <td>NaN</td>\n    </tr>\n    <tr>\n      <th>8</th>\n      <td>Lateral Dumbell Raises</td>\n      <td>NaN</td>\n      <td>[3,8,25]</td>\n      <td>NaN</td>\n      <td>NaN</td>\n      <td>NaN</td>\n      <td>NaN</td>\n      <td>NaN</td>\n      <td>NaN</td>\n      <td>NaN</td>\n      <td>...</td>\n      <td>NaN</td>\n      <td>[3,8,20]</td>\n      <td>NaN</td>\n      <td>NaN</td>\n      <td>NaN</td>\n      <td>NaN</td>\n      <td>NaN</td>\n      <td>NaN</td>\n      <td>NaN</td>\n      <td>NaN</td>\n    </tr>\n    <tr>\n      <th>9</th>\n      <td>Machine Pec dec</td>\n      <td>NaN</td>\n      <td>[3,12,110]</td>\n      <td>NaN</td>\n      <td>NaN</td>\n      <td>NaN</td>\n      <td>NaN</td>\n      <td>NaN</td>\n      <td>NaN</td>\n      <td>NaN</td>\n      <td>...</td>\n      <td>NaN</td>\n      <td>[3,8,175]</td>\n      <td>NaN</td>\n      <td>NaN</td>\n      <td>NaN</td>\n      <td>NaN</td>\n      <td>NaN</td>\n      <td>NaN</td>\n      <td>NaN</td>\n      <td>NaN</td>\n    </tr>\n    <tr>\n      <th>10</th>\n      <td>Cable Pec dec</td>\n      <td>NaN</td>\n      <td>NaN</td>\n      <td>NaN</td>\n      <td>NaN</td>\n      <td>NaN</td>\n      <td>[3,8,40]</td>\n      <td>NaN</td>\n      <td>NaN</td>\n      <td>NaN</td>\n      <td>...</td>\n      <td>NaN</td>\n      <td>NaN</td>\n      <td>NaN</td>\n      <td>NaN</td>\n      <td>NaN</td>\n      <td>NaN</td>\n      <td>NaN</td>\n      <td>NaN</td>\n      <td>NaN</td>\n      <td>NaN</td>\n    </tr>\n    <tr>\n      <th>11</th>\n      <td>Tricep cable pushdown</td>\n      <td>NaN</td>\n      <td>NaN</td>\n      <td>NaN</td>\n      <td>NaN</td>\n      <td>NaN</td>\n      <td>NaN</td>\n      <td>NaN</td>\n      <td>NaN</td>\n      <td>[3,7,120]</td>\n      <td>...</td>\n      <td>NaN</td>\n      <td>NaN</td>\n      <td>NaN</td>\n      <td>NaN</td>\n      <td>NaN</td>\n      <td>NaN</td>\n      <td>NaN</td>\n      <td>NaN</td>\n      <td>NaN</td>\n      <td>NaN</td>\n    </tr>\n    <tr>\n      <th>12</th>\n      <td>Single tricep cable pushdown</td>\n      <td>NaN</td>\n      <td>[3,8,50]</td>\n      <td>NaN</td>\n      <td>NaN</td>\n      <td>NaN</td>\n      <td>NaN</td>\n      <td>NaN</td>\n      <td>NaN</td>\n      <td>NaN</td>\n      <td>...</td>\n      <td>NaN</td>\n      <td>[3,8,25]</td>\n      <td>NaN</td>\n      <td>NaN</td>\n      <td>NaN</td>\n      <td>NaN</td>\n      <td>NaN</td>\n      <td>NaN</td>\n      <td>NaN</td>\n      <td>NaN</td>\n    </tr>\n  </tbody>\n</table>\n<p>13 rows × 211 columns</p>\n</div>"
     },
     "execution_count": 5,
     "metadata": {},
     "output_type": "execute_result"
    }
   ],
   "source": [
    "ExerList = ER.data[strat]\n",
    "\n",
    "\n",
    "indexes = ExerList.index[~ExerList.isin(plannerDF)]\n",
    "\n",
    "for added,ind in enumerate(indexes):\n",
    "    print(added,ind,added+ind)\n",
    "    indexadded=ind+added\n",
    "    print(indexadded)\n",
    "    recentPlanner.iloc[ind:,1:-1] = recentPlanner.iloc[ind:,1:-1].shift(1,axis=0)\n",
    "recentPlanner[exName].update(ExerList)\n",
    "recentPlanner\n",
    "\n"
   ],
   "metadata": {
    "collapsed": false,
    "pycharm": {
     "name": "#%%\n"
    }
   }
  },
  {
   "cell_type": "code",
   "execution_count": 6,
   "outputs": [
    {
     "name": "stdout",
     "output_type": "stream",
     "text": [
      "                 Exercise - Push  29-05-2022  30-05-2022  31-05-2022  \\\n",
      "0                    Bench Press         NaN   [3,8,135]         NaN   \n",
      "1                  Dumbell Press         NaN         NaN         NaN   \n",
      "2            Decline Bench Press         NaN         NaN         NaN   \n",
      "3          Incline Dumbell Press         NaN         NaN         NaN   \n",
      "4         Dumbell Shoulder Press         NaN   [3,12,75]         NaN   \n",
      "5                           test         NaN         NaN         NaN   \n",
      "6                Arnold Shoulder         NaN         NaN         NaN   \n",
      "7                          test2         NaN         NaN         NaN   \n",
      "8        Lateral Dumbell Raises          NaN    [3,8,25]         NaN   \n",
      "9                Machine Pec dec         NaN  [3,12,110]         NaN   \n",
      "10                 Cable Pec dec         NaN         NaN         NaN   \n",
      "11         Tricep cable pushdown         NaN         NaN         NaN   \n",
      "12  Single tricep cable pushdown         NaN    [3,8,50]         NaN   \n",
      "\n",
      "    01-06-2022  02-06-2022 03-06-2022  04-06-2022  05-06-2022 06-06-2022  ...  \\\n",
      "0          NaN         NaN        NaN         NaN         NaN  [3,6,145]  ...   \n",
      "1          NaN         NaN   [3,6,45]         NaN         NaN        NaN  ...   \n",
      "2          NaN         NaN  [3,6,135]         NaN         NaN        NaN  ...   \n",
      "3          NaN         NaN        NaN         NaN         NaN        NaN  ...   \n",
      "4          NaN         NaN   [3,8,85]         NaN         NaN   [3,8,85]  ...   \n",
      "5          NaN         NaN        NaN         NaN         NaN        NaN  ...   \n",
      "6          NaN         NaN        NaN         NaN         NaN   [3,9,25]  ...   \n",
      "7          NaN         NaN        NaN         NaN         NaN        NaN  ...   \n",
      "8          NaN         NaN        NaN         NaN         NaN        NaN  ...   \n",
      "9          NaN         NaN        NaN         NaN         NaN        NaN  ...   \n",
      "10         NaN         NaN   [3,8,40]         NaN         NaN        NaN  ...   \n",
      "11         NaN         NaN        NaN         NaN         NaN  [3,7,120]  ...   \n",
      "12         NaN         NaN        NaN         NaN         NaN        NaN  ...   \n",
      "\n",
      "    17-12-2022  18-12-2022  19-12-2022 20-12-2022  21-12-2022  22-12-2022  \\\n",
      "0          NaN         NaN         NaN        NaN         NaN         NaN   \n",
      "1          NaN         NaN         NaN        NaN         NaN         NaN   \n",
      "2          NaN   [3,8,135]         NaN        NaN         NaN         NaN   \n",
      "3          NaN    [3,8,50]         NaN        NaN         NaN         NaN   \n",
      "4          NaN    [3,4,55]         NaN        NaN         NaN         NaN   \n",
      "5          NaN         NaN         NaN        NaN         NaN         NaN   \n",
      "6          NaN         NaN         NaN        NaN         NaN         NaN   \n",
      "7          NaN         NaN         NaN        NaN         NaN         NaN   \n",
      "8          NaN    [3,8,20]         NaN        NaN         NaN         NaN   \n",
      "9          NaN   [3,8,175]         NaN        NaN         NaN         NaN   \n",
      "10         NaN         NaN         NaN        NaN         NaN         NaN   \n",
      "11         NaN         NaN         NaN        NaN         NaN         NaN   \n",
      "12         NaN    [3,8,25]         NaN        NaN         NaN         NaN   \n",
      "\n",
      "   23-12-2022  24-12-2022  25-12-2022 26-12-2022  \n",
      "0         NaN         NaN         NaN        NaN  \n",
      "1         NaN         NaN         NaN        NaN  \n",
      "2         NaN         NaN         NaN        NaN  \n",
      "3         NaN         NaN         NaN        NaN  \n",
      "4         NaN         NaN         NaN        NaN  \n",
      "5         NaN         NaN         NaN        NaN  \n",
      "6         NaN         NaN         NaN        NaN  \n",
      "7         NaN         NaN         NaN        NaN  \n",
      "8         NaN         NaN         NaN        NaN  \n",
      "9         NaN         NaN         NaN        NaN  \n",
      "10        NaN         NaN         NaN        NaN  \n",
      "11        NaN         NaN         NaN        NaN  \n",
      "12        NaN         NaN         NaN        NaN  \n",
      "\n",
      "[13 rows x 211 columns]\n"
     ]
    }
   ],
   "source": [
    "print(recentPlanner)"
   ],
   "metadata": {
    "collapsed": false,
    "pycharm": {
     "name": "#%%\n"
    }
   }
  },
  {
   "cell_type": "code",
   "execution_count": 6,
   "outputs": [],
   "source": [],
   "metadata": {
    "collapsed": false,
    "pycharm": {
     "name": "#%%\n"
    }
   }
  }
 ],
 "metadata": {
  "kernelspec": {
   "display_name": "Python 3",
   "language": "python",
   "name": "python3"
  },
  "language_info": {
   "codemirror_mode": {
    "name": "ipython",
    "version": 2
   },
   "file_extension": ".py",
   "mimetype": "text/x-python",
   "name": "python",
   "nbconvert_exporter": "python",
   "pygments_lexer": "ipython2",
   "version": "2.7.6"
  }
 },
 "nbformat": 4,
 "nbformat_minor": 0
}